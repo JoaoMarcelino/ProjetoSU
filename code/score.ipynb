{
 "cells": [
  {
   "cell_type": "code",
   "execution_count": 2,
   "metadata": {},
   "outputs": [],
   "source": [
    "import pandas as pd\n",
    "import geopandas as gpd\n",
    "import matplotlib.pyplot as plt\n",
    "import os\n",
    "from tqdm import tqdm\n",
    "from shapely.geometry import *\n",
    "from shapely.ops import nearest_points\n",
    "from utils import *\n",
    "import math"
   ]
  },
  {
   "cell_type": "code",
   "execution_count": 3,
   "metadata": {},
   "outputs": [
    {
     "name": "stdout",
     "output_type": "stream",
     "text": [
      "(4694149.275033623, 4678105.154380481, -1031864.8879591699, -1012216.9978341572)\n"
     ]
    }
   ],
   "source": [
    "crsEuc,crsDeg=getUsualCRS()\n",
    "bboxEuc,bboxDeg=getUsualBbox()\n",
    "\n",
    "Lisbon=bbox(38.8076, 38.6952, -9.0929, -9.2694)\n",
    "Lisbon1=Lisbon.convertToXY()\n",
    "neighborsNumber=2\n",
    "squares=readGeodatafromFile(\"../datasets/acessibility/squares1.shp\",crs=crsEuc)\n",
    "categories=list(taxonomy().keys())\n",
    "pois,clusters=loadClusters(categories=categories,crs=crsEuc,folderDir=\"../datasets/pois/clusters/\")"
   ]
  },
  {
   "cell_type": "code",
   "execution_count": 4,
   "metadata": {},
   "outputs": [],
   "source": [
    "def score1(pointGeom,busDist,distances,nPoints):\n",
    "    score=0\n",
    "    for cat in categories:\n",
    "        dist1=distances[cat][0]\n",
    "        dist2=distances[cat][1]\n",
    "        n1=nPoints[cat][0]\n",
    "        n2=nPoints[cat][1]\n",
    "\n",
    "        scoreCat=dist1*0.8+dist2*0.2\n",
    "        score+=scoreCat\n",
    "    return score\n",
    "\n",
    "def score2(pointGeom,busDist,distances,nPoints):\n",
    "    score=0\n",
    "    for cat in categories:\n",
    "        dist1=distances[cat][0]\n",
    "        dist2=distances[cat][1]\n",
    "        n1=nPoints[cat][0]\n",
    "        n2=nPoints[cat][1]\n",
    "\n",
    "        scoreCat=dist1/n1*0.8+dist2/n2*0.2\n",
    "        score+=scoreCat\n",
    "    return score\n",
    "\n",
    "def score3(pointGeom,busDist,distances,nPoints):\n",
    "    score=0\n",
    "    for cat in categories:\n",
    "        dist1=distances[cat][0]\n",
    "        dist2=distances[cat][1]\n",
    "        n1=nPoints[cat][0]\n",
    "        n2=nPoints[cat][1]\n",
    "\n",
    "        scoreCat=busDist*2+dist1/n1*0.8+dist2/n2*0.2\n",
    "        score+=scoreCat\n",
    "    return score\n",
    "\n",
    "def score4(pointGeom,busDist,distances,nPoints):\n",
    "    score=0\n",
    "    i=0\n",
    "    for cat in categories:\n",
    "        dist1=distances[cat][0]\n",
    "        dist2=distances[cat][1]\n",
    "        n1=nPoints[cat][0]\n",
    "        n2=nPoints[cat][1]\n",
    "\n",
    "        scoreCatAll=busDist*2+dist1/n1*0.8+dist2/n2*0.2\n",
    "        scoreCatBus=busDist*2\n",
    "        ratio=scoreCatAll/scoreCatBus\n",
    "        score+=ratio\n",
    "        i+=1\n",
    "    return ratio/i\n",
    "    "
   ]
  },
  {
   "cell_type": "code",
   "execution_count": 5,
   "metadata": {},
   "outputs": [
    {
     "name": "stderr",
     "output_type": "stream",
     "text": [
      "  0%|          | 0/31717 [00:00<?, ?it/s]C:\\Users\\franc\\AppData\\Local\\Temp\\ipykernel_26948\\3555747832.py:48: RuntimeWarning: divide by zero encountered in double_scalars\n",
      "  ratio=scoreCatAll/scoreCatBus\n",
      "100%|██████████| 31717/31717 [03:58<00:00, 133.06it/s]\n",
      "c:\\Users\\franc\\anaconda3\\envs\\gis\\lib\\site-packages\\geopandas\\io\\file.py:362: FutureWarning: pandas.Int64Index is deprecated and will be removed from pandas in a future version. Use pandas.Index with the appropriate dtype instead.\n",
      "  pd.Int64Index,\n"
     ]
    }
   ],
   "source": [
    "scoreDF=squares.copy()\n",
    "for i in tqdm(range(len(squares))):\n",
    "    geom=squares.loc[i,'geometry'].centroid\n",
    "    busDist=squares.loc[i,'stopDist']\n",
    "    dists={}\n",
    "    nPoints={}\n",
    "    for cat in categories:\n",
    "        clustCat=clusters[cat]\n",
    "        poisCat=pois[cat]\n",
    "        aux=[]\n",
    "        aux1=[]\n",
    "        for k in range(neighborsNumber):\n",
    "            name=\"{}{}ID\".format(cat[0:4],k)\n",
    "            name1=\"{}{}Dist\".format(cat[0:5],k)\n",
    "            clusterID=squares.loc[i,name]\n",
    "            dist=squares.loc[i,name1]\n",
    "            n=getCellWithValue(geoDataFrame=clustCat,columnOfValue='clusterID',columnToSelect='nPoints',value=clusterID)\n",
    "\n",
    "            dists[cat]=dists.get(cat,[])+[dist]\n",
    "            nPoints[cat]=nPoints.get(cat,[])+[n]\n",
    "\n",
    "        nPoints[cat] = [x for _,x in sorted(zip(dists[cat],nPoints[cat]))]\n",
    "        dists[cat].sort()\n",
    "\n",
    "    score=score4(busDist=busDist,distances=dists,nPoints=nPoints,pointGeom=geom)\n",
    "    scoreDF.at[i,'score']=score\n",
    "\n",
    "writeGeodataToGis(geodf=scoreDF,targetFile='../datasets/acessibility/score4.shp',crs=crsEuc)\n"
   ]
  }
 ],
 "metadata": {
  "interpreter": {
   "hash": "d237138e72723644b6c594b7519d0ceec22aca869e06d113d82e665c5e7816d5"
  },
  "kernelspec": {
   "display_name": "Python 3.9.12 ('gis')",
   "language": "python",
   "name": "python3"
  },
  "language_info": {
   "codemirror_mode": {
    "name": "ipython",
    "version": 3
   },
   "file_extension": ".py",
   "mimetype": "text/x-python",
   "name": "python",
   "nbconvert_exporter": "python",
   "pygments_lexer": "ipython3",
   "version": "3.9.12"
  },
  "orig_nbformat": 4
 },
 "nbformat": 4,
 "nbformat_minor": 2
}
