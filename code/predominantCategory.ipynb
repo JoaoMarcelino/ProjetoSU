{
 "cells": [
  {
   "cell_type": "code",
   "execution_count": 2,
   "metadata": {},
   "outputs": [],
   "source": [
    "import pandas as pd\n",
    "import geopandas as gpd\n",
    "import matplotlib.pyplot as plt\n",
    "import os\n",
    "from tqdm import tqdm\n",
    "from shapely.geometry import *\n",
    "from shapely.ops import nearest_points\n",
    "from utils import *\n",
    "import math"
   ]
  },
  {
   "cell_type": "code",
   "execution_count": 3,
   "metadata": {},
   "outputs": [
    {
     "name": "stdout",
     "output_type": "stream",
     "text": [
      "(4694149.275033623, 4678105.154380481, -1031864.8879591699, -1012216.9978341572)\n"
     ]
    }
   ],
   "source": [
    "crsEuc,crsDeg=getUsualCRS()\n",
    "bboxEuc,bboxDeg=getUsualBbox()\n",
    "\n",
    "Lisbon=bbox(38.8076, 38.6952, -9.0929, -9.2694)\n",
    "Lisbon1=Lisbon.convertToXY()\n",
    "\n",
    "squares=readGeodatafromFile(\"../datasets/acessibility/squares1.shp\",crs=crsEuc)\n",
    "categories=list(taxonomy().keys())\n",
    "pois,clusters=loadClusters(categories=categories,crs=crsEuc,folderDir=\"../datasets/pois/clusters/\")"
   ]
  },
  {
   "cell_type": "code",
   "execution_count": 6,
   "metadata": {},
   "outputs": [
    {
     "name": "stderr",
     "output_type": "stream",
     "text": [
      "  0%|          | 0/31717 [00:00<?, ?it/s]C:\\Users\\franc\\AppData\\Local\\Temp\\ipykernel_19460\\2564365859.py:16: RuntimeWarning: divide by zero encountered in double_scalars\n",
      "  score=1/dists[0]\n",
      "100%|██████████| 31717/31717 [00:11<00:00, 2758.20it/s]\n",
      "c:\\Users\\franc\\anaconda3\\envs\\gis\\lib\\site-packages\\geopandas\\io\\file.py:362: FutureWarning: pandas.Int64Index is deprecated and will be removed from pandas in a future version. Use pandas.Index with the appropriate dtype instead.\n",
      "  pd.Int64Index,\n"
     ]
    }
   ],
   "source": [
    "squares=squares.copy()\n",
    "neighborsNumber=2\n",
    "for i in tqdm(range(len(squares))):\n",
    "    busDist=squares.loc[i,'stopDist']\n",
    "    maxScore=0\n",
    "    maxCat=\"\"\n",
    "    for cat in categories:\n",
    "        clustCat=clusters[cat]\n",
    "        poisCat=pois[cat]\n",
    "        dists=[]\n",
    "        for k in range(neighborsNumber):\n",
    "            name=\"{}{}Dist\".format(cat[0:5],k)\n",
    "            dist=squares.loc[i,name]\n",
    "            dists.append(dist)\n",
    "        dists.sort()\n",
    "        score=1/dists[0]\n",
    "        if score>maxScore:\n",
    "            maxScore=score\n",
    "            maxCat=cat\n",
    "    squares.at[i,'category']=maxCat\n",
    "\n",
    "writeGeodataToGis(geodf=squares,targetFile='../datasets/zoning/predominantCategory.shp',crs=crsEuc)\n"
   ]
  }
 ],
 "metadata": {
  "interpreter": {
   "hash": "d237138e72723644b6c594b7519d0ceec22aca869e06d113d82e665c5e7816d5"
  },
  "kernelspec": {
   "display_name": "Python 3.9.12 ('gis')",
   "language": "python",
   "name": "python3"
  },
  "language_info": {
   "codemirror_mode": {
    "name": "ipython",
    "version": 3
   },
   "file_extension": ".py",
   "mimetype": "text/x-python",
   "name": "python",
   "nbconvert_exporter": "python",
   "pygments_lexer": "ipython3",
   "version": "3.9.12"
  },
  "orig_nbformat": 4
 },
 "nbformat": 4,
 "nbformat_minor": 2
}
